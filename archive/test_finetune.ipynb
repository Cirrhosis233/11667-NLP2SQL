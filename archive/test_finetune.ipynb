{
 "cells": [
  {
   "cell_type": "code",
   "execution_count": 1,
   "metadata": {},
   "outputs": [],
   "source": [
    "import torch\n",
    "from datasets import load_from_disk\n",
    "from transformers import AutoTokenizer, AutoModelForCausalLM\n",
    "from peft import AutoPeftModelForCausalLM"
   ]
  },
  {
   "cell_type": "code",
   "execution_count": 2,
   "metadata": {},
   "outputs": [],
   "source": [
    "def make_prompts(dataset, prompt_file=\"./prompts/prompt_v2.md\"):\n",
    "    with open(prompt_file, \"r\") as f:\n",
    "        prompt = f.read()\n",
    "\n",
    "    return prompt.format(user_question=dataset[\"question\"], table_metadata_string=dataset[\"context\"]).strip()"
   ]
  },
  {
   "cell_type": "code",
   "execution_count": 3,
   "metadata": {},
   "outputs": [
    {
     "data": {
      "text/plain": [
       "{'answer': 'SELECT T3.Location, T2.Name FROM party_host AS T1 JOIN HOST AS T2 ON T1.Host_ID = T2.Host_ID JOIN party AS T3 ON T1.Party_ID = T3.Party_ID ORDER BY T2.Age',\n",
       " 'question': 'Show the locations of parties and the names of the party hosts in ascending order of the age of the host.',\n",
       " 'context': 'CREATE TABLE party (Location VARCHAR, Party_ID VARCHAR); CREATE TABLE HOST (Name VARCHAR, Host_ID VARCHAR, Age VARCHAR); CREATE TABLE party_host (Host_ID VARCHAR, Party_ID VARCHAR)'}"
      ]
     },
     "execution_count": 3,
     "metadata": {},
     "output_type": "execute_result"
    }
   ],
   "source": [
    "dataset = load_from_disk(\"./datasets/sql-create-context-split\")[\"val\"].take(2)\n",
    "dataset[0]"
   ]
  },
  {
   "cell_type": "code",
   "execution_count": 4,
   "metadata": {},
   "outputs": [
    {
     "data": {
      "text/plain": [
       "'### Task\\nGenerate a SQL query to answer [QUESTION]Show the locations of parties and the names of the party hosts in ascending order of the age of the host.[/QUESTION]\\n\\n### Instructions\\n- End the SQL query with \";\"\\n- Do not explain the Answer SQL\\n\\n### Database Schema\\nThe query will run on a database with the following schema:\\nCREATE TABLE party (Location VARCHAR, Party_ID VARCHAR); CREATE TABLE HOST (Name VARCHAR, Host_ID VARCHAR, Age VARCHAR); CREATE TABLE party_host (Host_ID VARCHAR, Party_ID VARCHAR)\\n\\n### Answer\\nGiven the database schema, here is the SQL query that answers [QUESTION]Show the locations of parties and the names of the party hosts in ascending order of the age of the host.[/QUESTION]\\n[SQL]'"
      ]
     },
     "execution_count": 4,
     "metadata": {},
     "output_type": "execute_result"
    }
   ],
   "source": [
    "prompt = make_prompts(dataset[0])\n",
    "prompt"
   ]
  },
  {
   "cell_type": "code",
   "execution_count": 9,
   "metadata": {},
   "outputs": [],
   "source": [
    "tokenizer = AutoTokenizer.from_pretrained(\"codellama/CodeLlama-7b-Instruct-hf\")\n",
    "tokenizer.pad_token_id = tokenizer.eos_token_id"
   ]
  },
  {
   "cell_type": "code",
   "execution_count": 27,
   "metadata": {},
   "outputs": [
    {
     "data": {
      "application/vnd.jupyter.widget-view+json": {
       "model_id": "4eaa315c049048ffa2c77be380303cd7",
       "version_major": 2,
       "version_minor": 0
      },
      "text/plain": [
       "Loading checkpoint shards:   0%|          | 0/2 [00:00<?, ?it/s]"
      ]
     },
     "metadata": {},
     "output_type": "display_data"
    }
   ],
   "source": [
    "model = AutoModelForCausalLM.from_pretrained(\n",
    "    \"codellama/CodeLlama-7b-Instruct-hf\",\n",
    "    trust_remote_code=True,\n",
    "    torch_dtype=torch.bfloat16,  # May not work on All GPU, use float16 instead if error\n",
    "    device_map=\"auto\",\n",
    ")"
   ]
  },
  {
   "cell_type": "code",
   "execution_count": 28,
   "metadata": {},
   "outputs": [],
   "source": [
    "inputs = tokenizer(prompt, return_tensors=\"pt\").to(model.device)\n",
    "\n",
    "generated_ids = model.generate(\n",
    "    **inputs,\n",
    "    num_return_sequences=1,\n",
    "    eos_token_id=tokenizer.eos_token_id,\n",
    "    pad_token_id=tokenizer.eos_token_id,\n",
    "    max_new_tokens=400,\n",
    "    do_sample=False,\n",
    "    num_beams=1,\n",
    ")\n",
    "\n",
    "outputs = tokenizer.batch_decode(generated_ids, skip_special_tokens=True)"
   ]
  },
  {
   "cell_type": "code",
   "execution_count": 29,
   "metadata": {},
   "outputs": [
    {
     "data": {
      "text/plain": [
       "'### Task\\nGenerate a SQL query to answer [QUESTION]Show the locations of parties and the names of the party hosts in ascending order of the age of the host.[/QUESTION]\\n\\n### Instructions\\n- End the SQL query with \";\"\\n- Do not explain the Answer SQL\\n\\n### Database Schema\\nThe query will run on a database with the following schema:\\nCREATE TABLE party (Location VARCHAR, Party_ID VARCHAR); CREATE TABLE HOST (Name VARCHAR, Host_ID VARCHAR, Age VARCHAR); CREATE TABLE party_host (Host_ID VARCHAR, Party_ID VARCHAR)\\n\\n### Answer\\nGiven the database schema, here is the SQL query that answers [QUESTION]Show the locations of parties and the names of the party hosts in ascending order of the age of the host.[/QUESTION]\\n[SQL]\\nSELECT p.Location, h.Name\\nFROM party p\\nJOIN party_host ph ON p.Party_ID = ph.Party_ID\\nJOIN HOST h ON ph.Host_ID = h.Host_ID\\nORDER BY h.Age ASC;\\n[/SQL]\\n'"
      ]
     },
     "execution_count": 29,
     "metadata": {},
     "output_type": "execute_result"
    }
   ],
   "source": [
    "outputs[0]"
   ]
  },
  {
   "cell_type": "code",
   "execution_count": 15,
   "metadata": {},
   "outputs": [
    {
     "data": {
      "text/plain": [
       "'SELECT p.Location, h.Name\\nFROM party p\\nJOIN party_host ph ON p.Party_ID = ph.Party_ID\\nJOIN HOST h ON ph.Host_ID = h.Host_ID\\nORDER BY h.Age ASC'"
      ]
     },
     "execution_count": 15,
     "metadata": {},
     "output_type": "execute_result"
    }
   ],
   "source": [
    "outputs[0].split(\"[SQL]\")[-1].split(\";\")[0].strip()"
   ]
  },
  {
   "cell_type": "code",
   "execution_count": 16,
   "metadata": {},
   "outputs": [
    {
     "data": {
      "text/plain": [
       "'SELECT T3.Location, T2.Name FROM party_host AS T1 JOIN HOST AS T2 ON T1.Host_ID = T2.Host_ID JOIN party AS T3 ON T1.Party_ID = T3.Party_ID ORDER BY T2.Age'"
      ]
     },
     "execution_count": 16,
     "metadata": {},
     "output_type": "execute_result"
    }
   ],
   "source": [
    "dataset[0]['answer']"
   ]
  },
  {
   "cell_type": "code",
   "execution_count": 26,
   "metadata": {},
   "outputs": [],
   "source": [
    "del model\n",
    "torch.cuda.empty_cache()\n",
    "torch.cuda.synchronize()"
   ]
  },
  {
   "cell_type": "code",
   "execution_count": 7,
   "metadata": {},
   "outputs": [],
   "source": [
    "tokenizer = AutoTokenizer.from_pretrained(\"./models/codellama-v1\")"
   ]
  },
  {
   "cell_type": "code",
   "execution_count": 5,
   "metadata": {},
   "outputs": [
    {
     "data": {
      "application/vnd.jupyter.widget-view+json": {
       "model_id": "0f0d0dade59944a4b8aec5fed4834226",
       "version_major": 2,
       "version_minor": 0
      },
      "text/plain": [
       "Loading checkpoint shards:   0%|          | 0/2 [00:00<?, ?it/s]"
      ]
     },
     "metadata": {},
     "output_type": "display_data"
    }
   ],
   "source": [
    "model = AutoPeftModelForCausalLM.from_pretrained(\n",
    "    \"./models/codellama-v1\",\n",
    "    torch_dtype=torch.bfloat16,\n",
    "    device_map=\"auto\",\n",
    ")"
   ]
  },
  {
   "cell_type": "code",
   "execution_count": 8,
   "metadata": {},
   "outputs": [],
   "source": [
    "inputs = tokenizer(prompt, return_tensors=\"pt\").to(model.device)\n",
    "\n",
    "generated_ids = model.generate(\n",
    "    **inputs,\n",
    "    num_return_sequences=1,\n",
    "    eos_token_id=tokenizer.eos_token_id,\n",
    "    pad_token_id=tokenizer.eos_token_id,\n",
    "    max_new_tokens=1024,\n",
    "    do_sample=False,\n",
    "    num_beams=1,\n",
    ")\n",
    "\n",
    "outputs = tokenizer.batch_decode(generated_ids, skip_special_tokens=True)"
   ]
  },
  {
   "cell_type": "code",
   "execution_count": 9,
   "metadata": {},
   "outputs": [
    {
     "data": {
      "text/plain": [
       "'### Task\\nGenerate a SQL query to answer [QUESTION]Show the locations of parties and the names of the party hosts in ascending order of the age of the host.[/QUESTION]\\n\\n### Instructions\\n- End the SQL query with \";\"\\n- Do not explain the Answer SQL\\n\\n### Database Schema\\nThe query will run on a database with the following schema:\\nCREATE TABLE party (Location VARCHAR, Party_ID VARCHAR); CREATE TABLE HOST (Name VARCHAR, Host_ID VARCHAR, Age VARCHAR); CREATE TABLE party_host (Host_ID VARCHAR, Party_ID VARCHAR)\\n\\n### Answer\\nGiven the database schema, here is the SQL query that answers [QUESTION]Show the locations of parties and the names of the party hosts in ascending order of the age of the host.[/QUESTION]\\n[SQL]SELECT T1.Location, T2.Name FROM party AS T1 JOIN party_host AS T3 ON T1.Party_ID = T3.Party_ID JOIN HOST AS T2 ON T3.Host_ID = T2.Host_ID ORDER BY T2.Age;[/SQL]\\n\\n### Explanation\\nThe query joins the tables party, party_host, and HOST to get the locations of parties and the names of the party hosts in ascending order of the age of the host.\\n\\n### Example\\nThe following is an example of the output of the query:\\n[OUTPUT]Location, Name\\nNew York, John\\nWashington, Jane\\nChicago, Bob\\nLos Angeles, Alice[/OUTPUT]\\n\\n### Constraints\\n- The database schema is given\\n- The query will run on a database with the given schema\\n- The query will return the locations of parties and the names of the party hosts in ascending order of the age of the host\\n- The query will not return any duplicate rows\\n- The query will not return any rows where the location is NULL\\n- The query will not return any rows where the name is NULL\\n- The query will not return any rows where the age is NULL\\n- The query will not return any rows where the age is negative\\n- The query will not return any rows where the age is greater than 100\\n- The query will not return any rows where the location is not a string\\n- The query will not return any rows where the name is not a string\\n- The query will not return any rows where the age is not an integer\\n- The query will not return any rows where the age is not between 1 and 100\\n- The query will not return any rows where the location is not in the set {\"New York\", \"Washington\", \"Chicago\", \"Los Angeles\"}\\n- The query will not return any rows where the name is not in the set {\"John\", \"Jane\", \"Bob\", \"Alice\"}\\n- The query will not return any rows where the age is not in the set {1, 2, 3, 4, 5, 6, 7, 8, 9, 10, 11, 12, 13, 14, 15, 16, 17, 18, 19, 20, 21, 22, 23, 24, 25, 26, 27, 28, 29, 30, 31, 32, 33, 34, 35, 36, 37, 38, 39, 40, 41, 42, 43, 44, 45, 46, 47, 48, 49, 50, 51, 52, 53, 54, 55, 56, 57, 58, 59, 60, 61, 62, 63, 64, 65, 66, 67, 68, 69, 70, 71, 72, 73, 74, 75, 76, 77, 78, 79, 80, 81, 82, 83, 84, 85, 86, 87, 88, 89, 90, 91, 92, 93, 94, 95, 96, 97, 98, 99, 100}\\n- The query will not return any rows where the location is not in the set {\"New York\", \"Washington\", \"Chicago\", \"Los Angeles\"}\\n- The query will not return any rows where the name is not in the set {\"John\", \"Jane\", \"Bob\", \"Alice\"}\\n- The query will not return any rows where the age is not in the set {1, 2, 3, 4, 5, 6, 7, 8, 9, 10, 11, 12, 13, 14, 15, 16, 17, 18, 19, 20, 21, 22, 23, 24, 25, 26,'"
      ]
     },
     "execution_count": 9,
     "metadata": {},
     "output_type": "execute_result"
    }
   ],
   "source": [
    "outputs[0]"
   ]
  },
  {
   "cell_type": "code",
   "execution_count": 10,
   "metadata": {},
   "outputs": [
    {
     "data": {
      "text/plain": [
       "'SELECT T1.Location, T2.Name FROM party AS T1 JOIN party_host AS T3 ON T1.Party_ID = T3.Party_ID JOIN HOST AS T2 ON T3.Host_ID = T2.Host_ID ORDER BY T2.Age'"
      ]
     },
     "execution_count": 10,
     "metadata": {},
     "output_type": "execute_result"
    }
   ],
   "source": [
    "outputs[0].split(\"[SQL]\")[-1].split(\";\")[0].strip()"
   ]
  }
 ],
 "metadata": {
  "kernelspec": {
   "display_name": "cuda",
   "language": "python",
   "name": "python3"
  },
  "language_info": {
   "codemirror_mode": {
    "name": "ipython",
    "version": 3
   },
   "file_extension": ".py",
   "mimetype": "text/x-python",
   "name": "python",
   "nbconvert_exporter": "python",
   "pygments_lexer": "ipython3",
   "version": "3.11.10"
  }
 },
 "nbformat": 4,
 "nbformat_minor": 2
}
