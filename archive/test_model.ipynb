{
 "cells": [
  {
   "cell_type": "code",
   "execution_count": 1,
   "metadata": {},
   "outputs": [],
   "source": [
    "import torch\n",
    "from datasets import load_from_disk\n",
    "from transformers import AutoTokenizer, AutoModelForCausalLM, pipeline"
   ]
  },
  {
   "cell_type": "code",
   "execution_count": 2,
   "metadata": {},
   "outputs": [],
   "source": [
    "def add_prompt_to_dataset(dataset, prompt_file=\"prompt.md\"):\n",
    "    with open(prompt_file, \"r\") as f:\n",
    "        prompt = f.read()\n",
    "\n",
    "    def prepare_prompt(batch):\n",
    "        batch[\"prompt\"] = [\n",
    "            prompt.format(user_question=q, table_metadata_string=m)\n",
    "            for q, m in zip(batch[\"question\"], batch[\"context\"])\n",
    "        ]\n",
    "        return batch\n",
    "\n",
    "    dataset = dataset.map(prepare_prompt, batched=True)\n",
    "    return dataset"
   ]
  },
  {
   "cell_type": "code",
   "execution_count": 3,
   "metadata": {},
   "outputs": [],
   "source": [
    "def get_tokenizer_model(model_name):\n",
    "    tokenizer = AutoTokenizer.from_pretrained(model_name)\n",
    "    model = AutoModelForCausalLM.from_pretrained(\n",
    "        model_name,\n",
    "        trust_remote_code=True,\n",
    "        torch_dtype=torch.bfloat16, # May not work on All GPU, use float16 instead if error\n",
    "        device_map=\"auto\",\n",
    "        use_cache=True,\n",
    "    )\n",
    "    return tokenizer, model"
   ]
  },
  {
   "cell_type": "code",
   "execution_count": null,
   "metadata": {},
   "outputs": [],
   "source": [
    "# def generate_sql(input, tokenizer, model):\n",
    "#     prompt = generate_prompt(input)\n",
    "    \n",
    "#     # make sure the model stops generating at triple ticks\n",
    "#     # eos_token_id = tokenizer.convert_tokens_to_ids([\"```\"])[0]\n",
    "#     eos_token_id = tokenizer.eos_token_id\n",
    "#     pipe = pipeline(\n",
    "#         \"text-generation\",\n",
    "#         model=model,\n",
    "#         tokenizer=tokenizer,\n",
    "#         max_new_tokens=300,\n",
    "#         do_sample=False,\n",
    "#         return_full_text=False, # added return_full_text parameter to prevent splitting issues with prompt\n",
    "#         num_beams=1, # do beam search with 4 beams for high quality results\n",
    "#     )\n",
    "#     generated_query = (\n",
    "#         pipe(\n",
    "#             prompt,\n",
    "#             num_return_sequences=1,\n",
    "#             eos_token_id=eos_token_id,\n",
    "#             pad_token_id=eos_token_id,\n",
    "#         )[0][\"generated_text\"]\n",
    "#         .split(\";\")[0]\n",
    "#         .split(\"```\")[0]\n",
    "#         .strip()\n",
    "#     )\n",
    "#     return generated_query"
   ]
  },
  {
   "cell_type": "code",
   "execution_count": 92,
   "metadata": {},
   "outputs": [],
   "source": [
    "from tqdm import tqdm\n",
    "from datasets import Dataset\n",
    "\n",
    "class ListDataset(Dataset):\n",
    "    def __init__(self, original_list):\n",
    "        self.original_list = original_list\n",
    "\n",
    "    def __len__(self):\n",
    "        return len(self.original_list)\n",
    "\n",
    "    def __getitem__(self, i):\n",
    "        return self.original_list[i]\n",
    "\n",
    "\n",
    "def generate_sql_batch(dataset, tokenizer, model, batch_size=16):\n",
    "    dataset = add_prompt_to_dataset(dataset)\n",
    "    dataset = ListDataset(dataset)\n",
    "\n",
    "    eos_token_id = tokenizer.eos_token_id\n",
    "    tokenizer.pad_token_id = eos_token_id\n",
    "    pipe = pipeline(\n",
    "        \"text-generation\",\n",
    "        model=model,\n",
    "        tokenizer=tokenizer,\n",
    "        max_new_tokens=300,\n",
    "        do_sample=False,\n",
    "        return_full_text=False,\n",
    "        num_beams=1,\n",
    "    )\n",
    "\n",
    "    all_generations = []\n",
    "\n",
    "    for output in tqdm(\n",
    "        pipe(\n",
    "            dataset[\"prompt\"],\n",
    "            num_return_sequences=1,\n",
    "            eos_token_id=eos_token_id,\n",
    "            pad_token_id=eos_token_id,\n",
    "            batch_size=batch_size,\n",
    "        )\n",
    "    ):\n",
    "        generated_query = (\n",
    "            output[0][\"generated_text\"].split(\";\")[0].split(\"```\")[0].strip()\n",
    "        )\n",
    "        all_generations.append(generated_query)\n",
    "\n",
    "    return all_generations"
   ]
  },
  {
   "cell_type": "markdown",
   "metadata": {},
   "source": [
    "### Load"
   ]
  },
  {
   "cell_type": "code",
   "execution_count": 4,
   "metadata": {},
   "outputs": [
    {
     "data": {
      "application/vnd.jupyter.widget-view+json": {
       "model_id": "b586ca0bb7404ead88a9e82dc9e3a5c6",
       "version_major": 2,
       "version_minor": 0
      },
      "text/plain": [
       "Loading checkpoint shards:   0%|          | 0/3 [00:00<?, ?it/s]"
      ]
     },
     "metadata": {},
     "output_type": "display_data"
    }
   ],
   "source": [
    "dataset = load_from_disk(\"./datasets/sql-create-context-split\")\n",
    "tokenizer, model = get_tokenizer_model(\"defog/sqlcoder-7b-2\")"
   ]
  },
  {
   "cell_type": "code",
   "execution_count": 5,
   "metadata": {},
   "outputs": [],
   "source": [
    "test_dataset = dataset[\"train\"]"
   ]
  },
  {
   "cell_type": "markdown",
   "metadata": {},
   "source": [
    "### value for proper max token"
   ]
  },
  {
   "cell_type": "code",
   "execution_count": 8,
   "metadata": {},
   "outputs": [],
   "source": [
    "# token_lengths = [\n",
    "#     len(tokenizer.tokenize(answer)) for answer in dataset[\"train\"][\"answer\"]\n",
    "# ]\n",
    "\n",
    "# # Analyze statistics\n",
    "# max_length = max(token_lengths)\n",
    "# mean_length = sum(token_lengths) / len(token_lengths)\n",
    "# print(f\"Max tokens: {max_length}, Mean tokens: {mean_length}\")"
   ]
  },
  {
   "cell_type": "markdown",
   "metadata": {},
   "source": [
    "300"
   ]
  },
  {
   "cell_type": "code",
   "execution_count": 6,
   "metadata": {},
   "outputs": [
    {
     "data": {
      "application/vnd.jupyter.widget-view+json": {
       "model_id": "62bb3201dbe848d3ae6691fbd946a6e7",
       "version_major": 2,
       "version_minor": 0
      },
      "text/plain": [
       "Map:   0%|          | 0/62861 [00:00<?, ? examples/s]"
      ]
     },
     "metadata": {},
     "output_type": "display_data"
    },
    {
     "name": "stdout",
     "output_type": "stream",
     "text": [
      "Max tokens: 407, Mean tokens: 158.44238876250776\n"
     ]
    }
   ],
   "source": [
    "token_lengths = [\n",
    "    len(tokenizer.tokenize(prompt)) for prompt in add_prompt_to_dataset(dataset[\"train\"])[\"prompt\"]\n",
    "]\n",
    "\n",
    "# Analyze statistics\n",
    "max_length = max(token_lengths)\n",
    "mean_length = sum(token_lengths) / len(token_lengths)\n",
    "print(f\"Max tokens: {max_length}, Mean tokens: {mean_length}\")"
   ]
  },
  {
   "cell_type": "markdown",
   "metadata": {},
   "source": [
    "### Run"
   ]
  },
  {
   "cell_type": "code",
   "execution_count": null,
   "metadata": {},
   "outputs": [
    {
     "name": "stderr",
     "output_type": "stream",
     "text": [
      "100%|██████████| 128/128 [00:00<00:00, 808540.53it/s]\n"
     ]
    }
   ],
   "source": [
    "generations = generate_sql_batch(test_dataset, tokenizer, model, batch_size=8)"
   ]
  },
  {
   "cell_type": "code",
   "execution_count": null,
   "metadata": {},
   "outputs": [],
   "source": [
    "test_dataset = test_dataset.add_column(\"generation\", generations)"
   ]
  },
  {
   "cell_type": "code",
   "execution_count": 91,
   "metadata": {},
   "outputs": [
    {
     "data": {
      "text/plain": [
       "{'answer': 'SELECT COUNT(clock_rate__mhz_) FROM table_142573_1 WHERE bandwidth__mb_s_ = 2400',\n",
       " 'question': 'Name the number of clock rate mhz when bandwidth mb/s is 2400',\n",
       " 'context': 'CREATE TABLE table_142573_1 (clock_rate__mhz_ VARCHAR, bandwidth__mb_s_ VARCHAR)',\n",
       " 'generation': \"SELECT t.clock_rate__mhz_ FROM table_142573_1 t WHERE t.bandwidth__mb_s_ = '2400'\"}"
      ]
     },
     "execution_count": 91,
     "metadata": {},
     "output_type": "execute_result"
    }
   ],
   "source": [
    "test_dataset[123]"
   ]
  },
  {
   "cell_type": "code",
   "execution_count": null,
   "metadata": {},
   "outputs": [],
   "source": [
    "def generate_prompt_batch(batch, prompt_file=\"prompt.md\"):\n",
    "    with open(prompt_file, \"r\") as f:\n",
    "        prompt = f.read()\n",
    "\n",
    "    prompt_batch = [\n",
    "        prompt.format(user_question=q, table_metadata_string=m)\n",
    "        for q, m in zip(batch[\"question\"], batch[\"context\"])\n",
    "    ]\n",
    "\n",
    "    return prompt_batch"
   ]
  },
  {
   "cell_type": "code",
   "execution_count": null,
   "metadata": {},
   "outputs": [],
   "source": [
    "from tqdm import tqdm\n",
    "\n",
    "\n",
    "def generate_sql_batch(dataset, tokenizer, model, batch_size=1):\n",
    "    eos_token_id = tokenizer.eos_token_id\n",
    "    tokenizer.pad_token_id = eos_token_id\n",
    "    pipe = pipeline(\n",
    "        \"text-generation\",\n",
    "        model=model,\n",
    "        tokenizer=tokenizer,\n",
    "        max_new_tokens=300,\n",
    "        do_sample=False,\n",
    "        return_full_text=False,\n",
    "        num_beams=1,\n",
    "    )\n",
    "    generations = []\n",
    "\n",
    "    for i in tqdm(range(0, len(dataset), batch_size), desc=\"Generating:\"):\n",
    "        batch = dataset[i : i + batch_size]\n",
    "        prompts = generate_prompt_batch(batch)\n",
    "\n",
    "        outputs = pipe(\n",
    "            prompts,\n",
    "            num_return_sequences=1,\n",
    "            eos_token_id=eos_token_id,\n",
    "            pad_token_id=eos_token_id,\n",
    "            batch_size=batch_size,\n",
    "        )\n",
    "\n",
    "        for output in outputs:\n",
    "            generated_query = (\n",
    "                output[0][\"generated_text\"].split(\";\")[0].split(\"```\")[0].strip()\n",
    "            )\n",
    "            generations.append(generated_query)\n",
    "\n",
    "    return generations"
   ]
  },
  {
   "cell_type": "code",
   "execution_count": 1,
   "metadata": {},
   "outputs": [],
   "source": [
    "def make_prompts(dataset, prompt_file=\"prompt.md\"):\n",
    "    with open(prompt_file, \"r\") as f:\n",
    "        prompt = f.read()\n",
    "\n",
    "    prompt_batch = [\n",
    "        prompt.format(user_question=q, table_metadata_string=m)\n",
    "        for q, m in zip(dataset[\"question\"], dataset[\"context\"])\n",
    "    ]\n",
    "\n",
    "    return prompt_batch"
   ]
  },
  {
   "cell_type": "code",
   "execution_count": 3,
   "metadata": {},
   "outputs": [
    {
     "data": {
      "text/plain": [
       "['Show the locations of parties and the names of the party hosts in ascending order of the age of the host.',\n",
       " 'List all customers’ names in the alphabetical order.',\n",
       " 'Show all team names.',\n",
       " 'List the name of all customers sorted by their account balance in ascending order.',\n",
       " \"How many trains have 'Express' in their names?\",\n",
       " 'How many games are held after season 2007?',\n",
       " 'What is the id and last name of the driver who participated in the most races after 2010?',\n",
       " 'What is the name of the department that has the largest number of students enrolled?',\n",
       " 'List all public schools and their locations.',\n",
       " 'Show all headquarters with both a company in banking industry and a company in Oil and gas.',\n",
       " 'How much is the track Fast As a Shark?',\n",
       " 'Which allergy type has least number of allergies?',\n",
       " 'Find the distinct driver id and the stop number of all drivers that have a shorter pit stop duration than some drivers in the race with id 841.',\n",
       " 'List the names and emails of customers who payed by Visa card.',\n",
       " 'Show the people that have been governor the most times.',\n",
       " 'How many storms had death records?',\n",
       " 'How many counties are there in total?',\n",
       " 'Show the police force shared by counties with location on the east and west.',\n",
       " 'Find the names of all the customers and staff members.',\n",
       " 'Return reviewer name, movie title, stars, and ratingDate. And sort the data first by reviewer name, then by movie title, and lastly by number of stars.',\n",
       " 'What are the names of parties with at least 2 events?',\n",
       " 'What is the address of the restaurant Subway?',\n",
       " 'Show the manager name with most number of gas stations opened after 2000.',\n",
       " 'What is the total credit does each department offer?',\n",
       " 'List the name for storms and the number of affected regions for each storm.',\n",
       " 'Find the names of customers whose name contains \"Diana\".',\n",
       " 'What is the average horizontal bar points for all gymnasts?',\n",
       " 'List all document ids and receipt dates of documents.',\n",
       " 'List the dates and vote percents of elections.',\n",
       " 'Show the prices of publications whose publisher is either \"Person\" or \"Wiley\"',\n",
       " 'What are the average and minimum price (in Euro) of all products?',\n",
       " 'What is title of album which track Balls to the Wall belongs to?',\n",
       " 'What are distinct locations where tracks are located?',\n",
       " 'Which countries have at least 3 cities?',\n",
       " 'Find the names of the chip models that are not used by any phone with full accreditation type.',\n",
       " 'Find the first names of teachers whose email address contains the word \"man\".',\n",
       " 'Give me ids for all the trip that took place in a zip code area with average mean temperature above 60.',\n",
       " 'Find the buildings which have rooms with capacity more than 50.',\n",
       " 'Advisor 1121 has how many students?',\n",
       " 'Show the times of elimination by \"Punk\" or \"Orton\".',\n",
       " 'What is average and maximum salary of all employees.',\n",
       " 'Give me the zip code where the average mean humidity is below 70 and at least 100 trips took place.',\n",
       " 'Find the titles of the papers that contain the word \"ML\".',\n",
       " 'What are the average enrollment size of the universities that are founded before 1850?',\n",
       " 'What is the average number of attendees for performances?',\n",
       " 'Find the number of students who are older than 18 and do not have allergy to either food or animal.',\n",
       " 'Find the number of rooms with price higher than 120 for different decor.',\n",
       " 'List the codes of all courses that take place in room KLR209.',\n",
       " 'List the name of playlist which has number of tracks greater than 100.',\n",
       " 'Find the name of instructors who are advising more than one student.',\n",
       " 'How many debit cards do we have?',\n",
       " 'What is the attribute data type of the attribute with name \"Green\"?',\n",
       " 'Find the names of customers who have used both the service \"Close a policy\" and the service \"New policy application\".',\n",
       " 'Find the title of the course that is offered by more than one department.',\n",
       " 'Return all reviewer names and movie names together in a single list.',\n",
       " 'What is the team name and acc regular season score of the school that was founded for the longest time?',\n",
       " 'Find the number of members living in each address.',\n",
       " 'Show the pair of male and female names in all weddings after year 2014',\n",
       " 'How many rooms does the Lamberton building have?',\n",
       " 'Please show the most common publication date.',\n",
       " 'Show the average room count of the apartments that have booking status code \"Provisional\".',\n",
       " 'Show the church names for the weddings of all people older than 30.',\n",
       " 'Show all directors.',\n",
       " 'What are the first names and date of birth of professors teaching course ACCT-211?',\n",
       " 'What is the last name of the youngest student?',\n",
       " 'Who is the composer of track Fast As a Shark?',\n",
       " 'Show the most common nationality of hosts.',\n",
       " 'Which advisor has most number of students?',\n",
       " 'What are the positions and teams of pilots?',\n",
       " 'List the campus that have between 600 and 1000 faculty lines in year 2004.',\n",
       " \"Show all artist names who didn't have an exhibition in 2004.\",\n",
       " 'What are the different nationalities of pilots? Show each nationality and the number of pilots of each nationality.',\n",
       " 'Show the apartment numbers of apartments with unit status availability of both 0 and 1.',\n",
       " 'which course has most number of registered students?',\n",
       " 'Show the most common location of performances.',\n",
       " 'How many buildings are there?',\n",
       " 'Find the names of customers who are not living in the state of California.',\n",
       " 'Show the ages of gymnasts in descending order of total points.',\n",
       " 'Find the maximum and average capacity among rooms in each building.',\n",
       " 'Which fault log included the most number of faulty parts? List the fault log id, description and record time.',\n",
       " \"Show the date valid from and the date valid to for the card with card number '4560596484842'.\",\n",
       " 'What are the names of movies that get 3 star and 4 star?',\n",
       " 'What are the ids and names of the web accelerators that are compatible with two or more browsers?',\n",
       " 'How many professors who are from either Accounting or Biology department?',\n",
       " 'What is total number of show times per dat for each cinema?',\n",
       " 'What is the average unit price of all the tracks?',\n",
       " \"Which movies have 'Deleted Scenes' as a substring in the special feature?\",\n",
       " 'What are all the distinct last names of all the engineers?',\n",
       " 'Show ids for all employees with at least 100000 salary.',\n",
       " 'How many schools are in the basketball match?',\n",
       " 'What are the gender and occupation of players?',\n",
       " 'List the types of competition and the number of competitions of each type.',\n",
       " 'How many different locations does each school have?',\n",
       " 'show the lowest low temperature and highest wind speed in miles per hour.',\n",
       " 'report the total number of degrees granted between 1998 and 2002.',\n",
       " 'Find the id and location of circuits that belong to France or Belgium?',\n",
       " 'What is the location with the most cinemas opened in year 2010 or later?',\n",
       " 'Find the details for all chip models.',\n",
       " 'List the names of phones that are not on any market.',\n",
       " 'Show the short names of the buildings managed by \"Emma\".',\n",
       " 'Show the cinema name and location for cinemas with capacity above average.',\n",
       " 'Find the first names of students who took exactly one class.',\n",
       " 'Find the name and attribute ID of the attribute definitions with attribute value 0.',\n",
       " 'Which players are from Indonesia?',\n",
       " 'What are the id and the amount of refund of the booking that incurred the most times of payments?',\n",
       " 'Find the number of phones for each accreditation type.',\n",
       " 'List the name of tracks belongs to genre Rock or media type is MPEG audio file.',\n",
       " 'Find the names of customers who either have an deputy policy or uniformed policy.',\n",
       " 'Which skill is used in fixing the most number of faults? List the skill id and description.',\n",
       " 'Find the number of items that did not receive any review.',\n",
       " 'How many different types of beds are there?',\n",
       " 'What are the maximum and minimum number of cows across all farms.',\n",
       " 'Show all customer ids and the number of cards owned by each customer.',\n",
       " 'List the names of members who did not attend any performance.',\n",
       " 'Find the origins from which more than 1 train starts.',\n",
       " 'What is the shipping agent code of shipping agent UPS?',\n",
       " 'Which committees have delegates from both democratic party and liberal party?',\n",
       " 'What are the nationalities and ages of journalists?',\n",
       " 'Find the average number of customers in all banks of Utah state.',\n",
       " 'Show all main industry and total market value in each industry.',\n",
       " 'Find the id and first name of the student that has the most number of assessment notes?',\n",
       " 'Find the names of the users whose number of followers is greater than that of the user named \"Tyler Swift\".',\n",
       " 'Show the names of journalists that have reported more than one event.',\n",
       " 'Show the countries that have both perpetrators with injures more than 50 and perpetrators with injures smaller than 20.',\n",
       " 'How many employees have certificate.',\n",
       " 'What are the clean and jerk score of the body builder with the highest total score?',\n",
       " 'Show institution names along with the number of proteins for each institution.',\n",
       " 'Retrieve all the first and last names of authors in the alphabetical order of last names.',\n",
       " 'What is the most popular first name of the actors?',\n",
       " 'Show the institution type with an institution founded after 1990 and an institution with at least 1000 enrollment.',\n",
       " 'How many faculty lines are there in \"San Francisco State University\" in year 2004?',\n",
       " 'Find the semester and year which has the least number of student taking any class.',\n",
       " 'How many times has the student Linda Smith visited Subway?',\n",
       " 'Find the number of rooms that do not have any reservation.',\n",
       " 'Which start station had the most trips starting from August? Give me the name and id of the station.',\n",
       " 'What is the total point count of the youngest gymnast?',\n",
       " 'Which language does the film AIRPORT POLLOCK use? List the language name.',\n",
       " 'What is the campus fee of \"San Francisco State University\" in year 2000?',\n",
       " 'Show the position of players and the corresponding number of players.',\n",
       " 'List the names of 5 users followed by the largest number of other users.',\n",
       " 'Find the team names of the universities whose enrollments are smaller than the average enrollment size.',\n",
       " 'What are the names of wrestlers days held less than 100?',\n",
       " 'Which gender makes up the majority of the staff?',\n",
       " 'List the distinct region of clubs in ascending alphabetical order.',\n",
       " 'Show the draft pick numbers and draft classes of players whose positions are defenders.',\n",
       " 'Show all destinations and the number of flights to each destination.',\n",
       " 'What is the campus fee of \"San Jose State University\" in year 1996?',\n",
       " 'Show the name, average attendance, total attendance for stadiums where no accidents happened.',\n",
       " 'List the names of buildings with at least 200 feet of height and with at least 20 floors.',\n",
       " 'What is the maximum enrollment across all schools?',\n",
       " 'List all directors along with the number of films directed by each director.',\n",
       " 'What is the maximum Online Mendelian Inheritance in Man (OMIM) value of the enzymes?',\n",
       " \"Show the accelerator names and supporting operating systems that are not compatible with the browser named 'Opera'.\",\n",
       " 'Show the ministers and the time they took and left office, listed by the time they left office.',\n",
       " 'Please show the themes of competitions with host cities having populations larger than 1000.',\n",
       " 'Find the id of users who are followed by Mary and Susan.',\n",
       " 'Find the total number of students in each department.',\n",
       " 'Find the average number of followers for the users who had some tweets.',\n",
       " 'List the season, home team, away team of all the games.',\n",
       " 'How many customers have email that contains \"gmail.com\"?',\n",
       " 'What are the names and parties of representatives?',\n",
       " 'Find the names of all instructors in computer science department',\n",
       " 'What are the first name, last name, and gender of all the good customers? Order by their last name.',\n",
       " 'Which film actor (actress) starred the most films? List his or her first name, last name and actor id.',\n",
       " 'What are the names and years of the movies that has the top 3 highest rating star?',\n",
       " \"What are the start date and end date of the booking that has booked the product named 'Book collection A'?\",\n",
       " 'Which poll resource provided the most number of candidate information?',\n",
       " 'Show the number of cities in counties that have a population more than 20000.',\n",
       " 'Show aircraft names and number of flights for each aircraft.',\n",
       " 'What are the titles of all movies that have rating star is between 3 and 5?',\n",
       " 'In which year were most departments established?',\n",
       " 'What is the zip code of the address where the teacher with first name \"Lyla\" lives?',\n",
       " 'Find the name of the user who gives the most reviews.',\n",
       " 'What are all the distinct asset models?',\n",
       " \"What are the student ids of students who don't have any allergies?\",\n",
       " 'Show the nations that have both hosts older than 45 and hosts younger than 35.',\n",
       " 'Show the locations that have both performances with more than 2000 attendees and performances with less than 1000 attendees.',\n",
       " 'List the id of students who registered some courses and the number of their registered courses?',\n",
       " 'Show invoice dates and order id and details for all invoices.',\n",
       " 'Show all allergies with number of students affected.',\n",
       " 'Show the name of the party that has the most delegates.',\n",
       " 'What is the incident type description for the incident type with code \"VIOLENCE\"?',\n",
       " 'How many courses do the student whose id is 171 attend?',\n",
       " 'What is the lowest and highest rating star?',\n",
       " \"Find out the top 10 customers by total number of orders. List customers' first and last name and the number of total orders.\",\n",
       " 'How many aircrafts do we have?',\n",
       " 'At which restaurant did the students spend the least amount of time? List restaurant and the time students spent on in total.',\n",
       " 'Show the total number of rooms of all apartments with facility code \"Gym\".',\n",
       " 'Show the official names of the cities that have hosted more than one competition.',\n",
       " 'Find the name and building of the department with the highest budget.',\n",
       " 'What are the names of people in ascending order of weight?',\n",
       " 'Find the names of customers who have no policies associated.',\n",
       " 'How many rooms whose capacity is less than 50 does the Lamberton building have?',\n",
       " 'What is the id of the event with the most participants?',\n",
       " 'What are the distinct positions of the players from a country whose capital is Dublin?',\n",
       " 'What is the average unit price of tracks that belong to Jazz genre?',\n",
       " 'Show writers who have published a book with price more than 4000000.',\n",
       " 'Return the first names and last names of all guests',\n",
       " 'What is the carrier of the most expensive phone?',\n",
       " 'List the names of technicians who have not been assigned to repair machines.',\n",
       " 'Find the saving balance of the account with the highest checking balance.',\n",
       " 'List the name of all rooms sorted by their prices.',\n",
       " 'Show the id and name of the aircraft with the maximum distance.',\n",
       " 'What is the salary and name of the employee who has the most number of certificates on aircrafts with distance more than 5000?',\n",
       " 'What is the name of the student who has the highest total credits in the History department.',\n",
       " 'Show the years and the official names of the host cities of competitions.',\n",
       " 'List the document type code for the document with the id 2.',\n",
       " 'Show the residences that have both a player of gender \"M\" and a player of gender \"F\".',\n",
       " 'How many phone hardware models are produced by the company named \"Nokia Corporation\"?',\n",
       " 'What is the most common participant type?',\n",
       " 'What are the id and zip code of the address with the highest monthly rental?',\n",
       " 'What are the degrees conferred in \"San Francisco State University\" in 2001.',\n",
       " 'Which campus has the most degrees conferred in all times?',\n",
       " 'Show the season, the player, and the name of the team that players belong to.',\n",
       " 'How many students have cat allergies?',\n",
       " 'Find all information about student addresses, and sort by monthly rental in descending order.',\n",
       " 'Find the start and end dates of detentions of teachers with last name \"Schultz\".',\n",
       " 'Find the names of rooms that have been reserved for more than 60 times.',\n",
       " 'Which paper is published in an institution in \"USA\" and have \"Turon\" as its second author?',\n",
       " 'What are the id and name of the stadium where the most injury accidents happened?',\n",
       " 'What is the booking status code of the apartment with apartment number \"Suite 634\"?',\n",
       " 'How many different advisors are listed?',\n",
       " 'What is the average rating star for each reviewer?',\n",
       " \"List the medicine name and trade name which can both interact as 'inhibitor' and 'activitor' with enzymes.\",\n",
       " \"What are the drivers' first, last names and id who had more than 8 pit stops or participated in more than 5 race results?\",\n",
       " 'How many persons are not body builders?',\n",
       " 'Show the players and the years played.',\n",
       " 'Which film actors (actresses) played a role in more than 30 films? List his or her first name and last name.',\n",
       " 'Show the names of editors and the theme of journals for which they serve on committees.',\n",
       " 'List the position of players with average number of points scored by players of that position bigger than 20.',\n",
       " 'Which shipping agent shipped the most documents? List the shipping agent name and the number of documents.',\n",
       " 'Find the state which has the most number of customers.',\n",
       " 'How many institutions are there?',\n",
       " 'What are the booking start and end dates of the apartments with type code \"Duplex\"?',\n",
       " 'What is the department name of the students with lowest gpa belongs to?',\n",
       " 'How many elections are there?',\n",
       " 'Please show the team that has the most number of technicians.',\n",
       " 'Find all invoice dates corresponding to customers with first name Astrid and last name Gruber.',\n",
       " 'Show names and seatings, ordered by seating for all tracks opened after 2000.',\n",
       " 'Find the number of employees of each gender whose salary is lower than 50000.',\n",
       " 'What is the last name of the author that has published the most papers?',\n",
       " 'List all info about all people.',\n",
       " 'Show the distinct apartment numbers of the apartments that have bookings with status code \"Confirmed\".',\n",
       " 'Show names of musicals and the number of actors who have appeared in the musicals.',\n",
       " 'Please show the different statuses, ordered by the number of cities that have each.',\n",
       " 'List the text of all tweets in the order of date.',\n",
       " 'Find the first names and offices of all professors sorted by alphabetical order of their first name.',\n",
       " 'List every album whose title starts with A in alphabetical order.',\n",
       " 'Show the order ids and the number of invoices for each order.',\n",
       " 'A list of the top 10 countries by average invoice size. List country name and average invoice size.']"
      ]
     },
     "execution_count": 3,
     "metadata": {},
     "output_type": "execute_result"
    }
   ],
   "source": [
    "from datasets import load_from_disk\n",
    "\n",
    "dataset = load_from_disk(\"./datasets/sql-create-context-split\")\n",
    "data = dataset[\"val\"]\n",
    "data[\"question\"]"
   ]
  },
  {
   "cell_type": "code",
   "execution_count": null,
   "metadata": {},
   "outputs": [],
   "source": []
  }
 ],
 "metadata": {
  "kernelspec": {
   "display_name": "cuda",
   "language": "python",
   "name": "python3"
  },
  "language_info": {
   "codemirror_mode": {
    "name": "ipython",
    "version": 3
   },
   "file_extension": ".py",
   "mimetype": "text/x-python",
   "name": "python",
   "nbconvert_exporter": "python",
   "pygments_lexer": "ipython3",
   "version": "3.11.10"
  }
 },
 "nbformat": 4,
 "nbformat_minor": 2
}
