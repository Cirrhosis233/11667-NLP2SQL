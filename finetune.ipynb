{
 "cells": [
  {
   "cell_type": "code",
   "execution_count": 1,
   "metadata": {},
   "outputs": [],
   "source": [
    "import torch\n",
    "from transformers import (\n",
    "    AutoModelForCausalLM,\n",
    "    AutoTokenizer,\n",
    "    Trainer,\n",
    "    TrainingArguments,\n",
    "    HfArgumentParser,\n",
    "    DataCollatorForLanguageModeling,\n",
    "    BitsAndBytesConfig,\n",
    ")\n",
    "from peft import LoraConfig, get_peft_model, prepare_model_for_kbit_training\n",
    "from datasets import load_from_disk\n",
    "from dataclasses import dataclass, field\n",
    "from typing import List, Union"
   ]
  },
  {
   "cell_type": "code",
   "execution_count": 2,
   "metadata": {},
   "outputs": [],
   "source": [
    "def prepare_dataset_for_training(dataset, tokenizer, seq_len, prompt_file):\n",
    "    if not tokenizer.pad_token:\n",
    "        tokenizer.pad_token = tokenizer.eos_token\n",
    "    with open(prompt_file, \"r\") as f:\n",
    "        prompt = f.read()\n",
    "    columns = dataset[\"train\"].features.keys()\n",
    "\n",
    "    def preprocess_function(examples):\n",
    "        prompts = [\n",
    "            prompt.format(user_question=q, table_metadata_string=m)\n",
    "            for q, m in zip(examples[\"question\"], examples[\"context\"])\n",
    "        ]\n",
    "\n",
    "        answers = [a if a.endswith(\";\") else a + \";\" for a in examples[\"answer\"]]\n",
    "\n",
    "        model_inputs = tokenizer(\n",
    "            prompts,\n",
    "            truncation=True,\n",
    "            max_length=seq_len,\n",
    "            padding=\"max_length\",\n",
    "            add_special_tokens=True,\n",
    "        )\n",
    "        labels = tokenizer(\n",
    "            answers,\n",
    "            truncation=True,\n",
    "            max_length=seq_len,\n",
    "            padding=\"max_length\",\n",
    "            add_special_tokens=True,\n",
    "        )\n",
    "        labels[\"input_ids\"] = [\n",
    "            [-100 if token == tokenizer.pad_token_id else token for token in label]\n",
    "            for label in labels[\"input_ids\"]\n",
    "        ]\n",
    "\n",
    "        model_inputs[\"labels\"] = labels[\"input_ids\"]\n",
    "        return model_inputs\n",
    "\n",
    "    tokenized_dataset = dataset.map(\n",
    "        preprocess_function,\n",
    "        batched=True,\n",
    "        remove_columns=columns,\n",
    "    )\n",
    "    return tokenized_dataset"
   ]
  },
  {
   "cell_type": "code",
   "execution_count": null,
   "metadata": {},
   "outputs": [],
   "source": [
    "@dataclass\n",
    "class ModelConfig:\n",
    "    model: str = field(default=\"codellama/CodeLlama-7b-Instruct-hf\")\n",
    "    dataset: str = field(default=\"./datasets/sql-create-context-split\")\n",
    "    prompt: str = field(default=\"./prompts/prompt_v2.md\")\n",
    "    seq_len: int = field(default=2048)\n",
    "    bits: int = field(default=4)\n",
    "    bnb_4bit_quant_type: str = field(default=\"nf4\")\n",
    "    r: int = field(default=16)\n",
    "    lora_alpha: int = field(default=32)\n",
    "    lora_dropout: float = field(default=0.1)\n",
    "    target_modules: List[str] = field(default_factory=lambda: [\"q_proj\", \"v_proj\"])\n",
    "    bias: str = field(default=\"none\")\n",
    "    init_lora_weights: Union[bool, str] = field(default=True)\n",
    "    task_type: str = field(default=\"CAUSAL_LM\")"
   ]
  },
  {
   "cell_type": "code",
   "execution_count": 4,
   "metadata": {},
   "outputs": [],
   "source": [
    "parser = HfArgumentParser((ModelConfig, TrainingArguments))\n",
    "model_config, training_args = parser.parse_json_file(json_file=\"./configs/sqlcoder-v0.json\")"
   ]
  },
  {
   "cell_type": "code",
   "execution_count": 5,
   "metadata": {},
   "outputs": [
    {
     "data": {
      "text/plain": [
       "torch.bfloat16"
      ]
     },
     "execution_count": 5,
     "metadata": {},
     "output_type": "execute_result"
    }
   ],
   "source": [
    "torch_dtype = (torch.float16 if training_args.fp16 else (torch.bfloat16 if training_args.bf16 else torch.float32))\n",
    "torch_dtype"
   ]
  },
  {
   "cell_type": "code",
   "execution_count": 6,
   "metadata": {},
   "outputs": [],
   "source": [
    "tokenizer = AutoTokenizer.from_pretrained(model_config.model)"
   ]
  },
  {
   "cell_type": "code",
   "execution_count": 7,
   "metadata": {},
   "outputs": [
    {
     "data": {
      "application/vnd.jupyter.widget-view+json": {
       "model_id": "1843079be9d24de49ba489ee9404fe6a",
       "version_major": 2,
       "version_minor": 0
      },
      "text/plain": [
       "Loading checkpoint shards:   0%|          | 0/2 [00:00<?, ?it/s]"
      ]
     },
     "metadata": {},
     "output_type": "display_data"
    }
   ],
   "source": [
    "model = AutoModelForCausalLM.from_pretrained(\n",
    "    model_config.model,\n",
    "    device_map=\"auto\",\n",
    "    quantization_config=BitsAndBytesConfig(\n",
    "        load_in_8bit=model_config.bits == 8,\n",
    "        load_in_4bit=model_config.bits == 4,\n",
    "        bnb_4bit_compute_dtype=torch_dtype,\n",
    "        bnb_4bit_quant_type=model_config.bnb_4bit_quant_type,\n",
    "    ),\n",
    "    torch_dtype=torch_dtype,\n",
    "    trust_remote_code=True,\n",
    ")"
   ]
  },
  {
   "cell_type": "code",
   "execution_count": 8,
   "metadata": {},
   "outputs": [],
   "source": [
    "model = prepare_model_for_kbit_training(model, use_gradient_checkpointing=training_args.gradient_checkpointing)"
   ]
  },
  {
   "cell_type": "code",
   "execution_count": 9,
   "metadata": {},
   "outputs": [],
   "source": [
    "lora_config = LoraConfig(\n",
    "    r=model_config.r,\n",
    "    lora_alpha=model_config.lora_alpha,\n",
    "    target_modules=model_config.target_modules,\n",
    "    lora_dropout=model_config.lora_dropout,\n",
    "    bias=model_config.bias,\n",
    "    init_lora_weights=model_config.init_lora_weights,\n",
    "    task_type=model_config.task_type,\n",
    ")\n",
    "\n",
    "model = get_peft_model(model, lora_config)"
   ]
  },
  {
   "cell_type": "code",
   "execution_count": 10,
   "metadata": {},
   "outputs": [
    {
     "name": "stdout",
     "output_type": "stream",
     "text": [
      "trainable params: 8,388,608 || all params: 6,746,935,296 || trainable%: 0.1243\n"
     ]
    }
   ],
   "source": [
    "model.print_trainable_parameters()"
   ]
  },
  {
   "cell_type": "code",
   "execution_count": 11,
   "metadata": {},
   "outputs": [
    {
     "data": {
      "application/vnd.jupyter.widget-view+json": {
       "model_id": "551bdfbec2c84aed89c23a383d3e82a4",
       "version_major": 2,
       "version_minor": 0
      },
      "text/plain": [
       "Map:   0%|          | 0/1500 [00:00<?, ? examples/s]"
      ]
     },
     "metadata": {},
     "output_type": "display_data"
    },
    {
     "data": {
      "application/vnd.jupyter.widget-view+json": {
       "model_id": "e5b3f882e5aa468f9e693066af348ebb",
       "version_major": 2,
       "version_minor": 0
      },
      "text/plain": [
       "Map:   0%|          | 0/250 [00:00<?, ? examples/s]"
      ]
     },
     "metadata": {},
     "output_type": "display_data"
    },
    {
     "data": {
      "application/vnd.jupyter.widget-view+json": {
       "model_id": "d0db649c50024d9caa113b0725f73c98",
       "version_major": 2,
       "version_minor": 0
      },
      "text/plain": [
       "Map:   0%|          | 0/250 [00:00<?, ? examples/s]"
      ]
     },
     "metadata": {},
     "output_type": "display_data"
    }
   ],
   "source": [
    "dataset = load_from_disk(model_config.dataset)\n",
    "dataset = prepare_dataset_for_training(dataset, tokenizer, model_config.seq_len, prompt_file=\"./prompts/prompt_v2.md\")"
   ]
  },
  {
   "cell_type": "code",
   "execution_count": 15,
   "metadata": {},
   "outputs": [],
   "source": [
    "data_collator = DataCollatorForLanguageModeling(tokenizer=tokenizer, mlm=False)\n",
    "\n",
    "trainer = Trainer(\n",
    "    model=model,\n",
    "    args=training_args,\n",
    "    train_dataset=dataset[\"train\"],\n",
    "    eval_dataset=dataset[\"val\"],\n",
    "    data_collator=data_collator,\n",
    ")"
   ]
  },
  {
   "cell_type": "code",
   "execution_count": null,
   "metadata": {},
   "outputs": [],
   "source": [
    "trainer.train()\n",
    "trainer.save_model(training_args.output_dir)"
   ]
  },
  {
   "cell_type": "code",
   "execution_count": null,
   "metadata": {},
   "outputs": [],
   "source": []
  }
 ],
 "metadata": {
  "kernelspec": {
   "display_name": "cuda",
   "language": "python",
   "name": "python3"
  },
  "language_info": {
   "codemirror_mode": {
    "name": "ipython",
    "version": 3
   },
   "file_extension": ".py",
   "mimetype": "text/x-python",
   "name": "python",
   "nbconvert_exporter": "python",
   "pygments_lexer": "ipython3",
   "version": "3.11.10"
  }
 },
 "nbformat": 4,
 "nbformat_minor": 2
}
